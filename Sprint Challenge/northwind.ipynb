{
 "cells": [
  {
   "cell_type": "code",
   "execution_count": 46,
   "metadata": {},
   "outputs": [],
   "source": [
    "import sqlite3\n",
    "from tabulate import tabulate\n",
    "northwind = 'northwind_small.sqlite3'"
   ]
  },
  {
   "cell_type": "code",
   "execution_count": 47,
   "metadata": {},
   "outputs": [],
   "source": [
    "conn = sqlite3.connect(northwind)\n",
    "c = conn.cursor()"
   ]
  },
  {
   "cell_type": "code",
   "execution_count": 48,
   "metadata": {},
   "outputs": [
    {
     "data": {
      "text/plain": [
       "[('Category',),\n",
       " ('Customer',),\n",
       " ('CustomerCustomerDemo',),\n",
       " ('CustomerDemographic',),\n",
       " ('Employee',),\n",
       " ('EmployeeTerritory',),\n",
       " ('Order',),\n",
       " ('OrderDetail',),\n",
       " ('Product',),\n",
       " ('Region',),\n",
       " ('Shipper',),\n",
       " ('Supplier',),\n",
       " ('Territory',)]"
      ]
     },
     "execution_count": 48,
     "metadata": {},
     "output_type": "execute_result"
    }
   ],
   "source": [
    "c.execute(\"\"\"SELECT name \\\n",
    "FROM sqlite_master \\\n",
    "WHERE type='table' \\\n",
    "ORDER BY name;\"\"\").fetchall()"
   ]
  },
  {
   "cell_type": "code",
   "execution_count": 49,
   "metadata": {},
   "outputs": [
    {
     "name": "stdout",
     "output_type": "stream",
     "text": [
      "Item                       Price\n",
      "-----------------------  -------\n",
      "Côte de Blaye             263.5\n",
      "Thüringer Rostbratwurst   123.79\n",
      "Mishi Kobe Niku            97\n",
      "Sir Rodney's Marmalade     81\n",
      "Carnarvon Tigers           62.5\n",
      "Raclette Courdavault       55\n",
      "Manjimup Dried Apples      53\n",
      "Tarte au sucre             49.3\n",
      "Ipoh Coffee                46\n",
      "Rössle Sauerkraut          45.6\n"
     ]
    }
   ],
   "source": [
    "# Ten most expensive items per unit price with descending order\n",
    "\n",
    "top_products = c.execute('SELECT ProductName, UnitPrice \\\n",
    "FROM Product \\\n",
    "ORDER BY UnitPrice DESC LIMIT 10').fetchall()\n",
    "print(tabulate(top_products, headers =[\"Item\", \"Price\"]))"
   ]
  },
  {
   "cell_type": "code",
   "execution_count": 50,
   "metadata": {},
   "outputs": [
    {
     "name": "stdout",
     "output_type": "stream",
     "text": [
      "The average age at the time of their hiring: [(37.22222222222222,)]\n"
     ]
    }
   ],
   "source": [
    "#What is the average age of an employee at the time of their hiring?\n",
    "\n",
    "avg_age = c.execute(\"SELECT AVG(HireDate - BirthDate) \\\n",
    "FROM Employee\").fetchall()\n",
    "print(\"The average age at the time of their hiring:\", avg_age)"
   ]
  },
  {
   "cell_type": "code",
   "execution_count": 51,
   "metadata": {},
   "outputs": [
    {
     "name": "stdout",
     "output_type": "stream",
     "text": [
      "Product                    Price  Company\n",
      "-----------------------  -------  ---------------------------------\n",
      "Côte de Blaye             263.5   Aux joyeux ecclésiastiques\n",
      "Thüringer Rostbratwurst   123.79  Plutzer Lebensmittelgroßmärkte AG\n",
      "Mishi Kobe Niku            97     Tokyo Traders\n",
      "Sir Rodney's Marmalade     81     Specialty Biscuits, Ltd.\n",
      "Carnarvon Tigers           62.5   Pavlova, Ltd.\n",
      "Raclette Courdavault       55     Gai pâturage\n",
      "Manjimup Dried Apples      53     G'day, Mate\n",
      "Tarte au sucre             49.3   Forêts d'érables\n",
      "Ipoh Coffee                46     Leka Trading\n",
      "Rössle Sauerkraut          45.6   Plutzer Lebensmittelgroßmärkte AG\n"
     ]
    }
   ],
   "source": [
    "# What are the ten most expensive items (per unit price) in the\n",
    "# database *and*their suppliers?\n",
    "\n",
    "top_supp = c.execute('SELECT ProductName, UnitPrice, CompanyName \\\n",
    "FROM Product \\\n",
    "INNER JOIN Supplier on Supplier.Id = Product.SupplierID \\\n",
    "ORDER BY UnitPrice DESC \\\n",
    "Limit 10').fetchall()\n",
    "print(tabulate(top_supp, headers=[\"Product\", \"Price\", \"Company\"]))"
   ]
  },
  {
   "cell_type": "code",
   "execution_count": 52,
   "metadata": {},
   "outputs": [
    {
     "name": "stdout",
     "output_type": "stream",
     "text": [
      "The largest category sorted by the amount of products in it: Confections\n"
     ]
    }
   ],
   "source": [
    "# What is the largest category (by number of products in it)?\n",
    "\n",
    "largest = c.execute('SELECT CategoryName, COUNT(DISTINCT Product.Id) \\\n",
    "FROM Product \\\n",
    "INNER JOIN Category ON Category.Id = Product.CategoryID \\\n",
    "GROUP BY CategoryName \\\n",
    "ORDER BY COUNT(DISTINCT Product.Id) DESC \\\n",
    "LIMIT 1').fetchall()\n",
    "print('The largest category sorted by the amount of products in it:', largest[0][0])"
   ]
  },
  {
   "cell_type": "code",
   "execution_count": 53,
   "metadata": {},
   "outputs": [],
   "source": [
    "conn.close()"
   ]
  }
 ],
 "metadata": {
  "kernelspec": {
   "display_name": "Python 3",
   "language": "python",
   "name": "python3"
  },
  "language_info": {
   "codemirror_mode": {
    "name": "ipython",
    "version": 3
   },
   "file_extension": ".py",
   "mimetype": "text/x-python",
   "name": "python",
   "nbconvert_exporter": "python",
   "pygments_lexer": "ipython3",
   "version": "3.7.6"
  }
 },
 "nbformat": 4,
 "nbformat_minor": 4
}
