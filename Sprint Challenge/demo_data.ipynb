{
 "cells": [
  {
   "cell_type": "code",
   "execution_count": 1,
   "metadata": {},
   "outputs": [],
   "source": [
    "import sqlite3"
   ]
  },
  {
   "cell_type": "code",
   "execution_count": 4,
   "metadata": {},
   "outputs": [],
   "source": [
    "conn = sqlite3.connect('demo_data.sqlite3')\n",
    "curs = conn.cursor()"
   ]
  },
  {
   "cell_type": "code",
   "execution_count": 5,
   "metadata": {},
   "outputs": [
    {
     "data": {
      "text/plain": [
       "<sqlite3.Cursor at 0x1fa24034490>"
      ]
     },
     "execution_count": 5,
     "metadata": {},
     "output_type": "execute_result"
    }
   ],
   "source": [
    "curs.execute('CREATE TABLE IF NOT EXISTS demo ( \\\n",
    "s TEXT NOT NULL, \\\n",
    "x INT NOT NULL, \\\n",
    "y INT NOT NULL \\\n",
    ")')"
   ]
  },
  {
   "cell_type": "code",
   "execution_count": 7,
   "metadata": {},
   "outputs": [
    {
     "data": {
      "text/plain": [
       "<sqlite3.Cursor at 0x1fa24034490>"
      ]
     },
     "execution_count": 7,
     "metadata": {},
     "output_type": "execute_result"
    }
   ],
   "source": [
    "curs.execute(\"INSERT INTO demo(s,x,y) \\\n",
    "VALUES \\\n",
    "('g', 3, 9), \\\n",
    "('v', 5, 7), \\\n",
    "('f', 8, 7)\")"
   ]
  },
  {
   "cell_type": "code",
   "execution_count": 8,
   "metadata": {},
   "outputs": [
    {
     "name": "stdout",
     "output_type": "stream",
     "text": [
      "[('g', 3, 9), ('v', 5, 7), ('f', 8, 7)]\n"
     ]
    }
   ],
   "source": [
    "test = curs.execute('SELECT * FROM demo').fetchall()\n",
    "print(test)"
   ]
  },
  {
   "cell_type": "code",
   "execution_count": 9,
   "metadata": {},
   "outputs": [],
   "source": [
    "conn.commit()"
   ]
  },
  {
   "cell_type": "code",
   "execution_count": 16,
   "metadata": {},
   "outputs": [
    {
     "name": "stdout",
     "output_type": "stream",
     "text": [
      "The amount of rows in this table: 3\n"
     ]
    }
   ],
   "source": [
    "rows = curs.execute('SELECT COUNT(*) FROM demo').fetchall()\n",
    "print(\"The amount of rows in this table:\",rows[0][0])"
   ]
  },
  {
   "cell_type": "code",
   "execution_count": 20,
   "metadata": {},
   "outputs": [
    {
     "name": "stdout",
     "output_type": "stream",
     "text": [
      "The total of rows with both x and y: 2\n",
      "No, there are not at least 5 rows.\n"
     ]
    }
   ],
   "source": [
    "five_up = curs.execute('SELECT COUNT(*) FROM demo WHERE x>4 AND y>4').fetchall()\n",
    "print(\"The total of rows with both x and y:\",five_up[0][0])\n",
    "print(\"No, there are not at least 5 rows.\")"
   ]
  },
  {
   "cell_type": "code",
   "execution_count": 6,
   "metadata": {},
   "outputs": [
    {
     "name": "stdout",
     "output_type": "stream",
     "text": [
      "The amount of unique values of y: 2\n"
     ]
    }
   ],
   "source": [
    "unique = curs.execute('SELECT COUNT(DISTINCT y) FROM demo').fetchall()\n",
    "print(\"The amount of unique values of y:\",unique[0][0])"
   ]
  },
  {
   "cell_type": "code",
   "execution_count": 21,
   "metadata": {},
   "outputs": [],
   "source": [
    "conn.close()"
   ]
  }
 ],
 "metadata": {
  "kernelspec": {
   "display_name": "Python 3",
   "language": "python",
   "name": "python3"
  },
  "language_info": {
   "codemirror_mode": {
    "name": "ipython",
    "version": 3
   },
   "file_extension": ".py",
   "mimetype": "text/x-python",
   "name": "python",
   "nbconvert_exporter": "python",
   "pygments_lexer": "ipython3",
   "version": "3.7.6"
  }
 },
 "nbformat": 4,
 "nbformat_minor": 4
}
